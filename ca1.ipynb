{
 "cells": [
  {
   "cell_type": "markdown",
   "metadata": {},
   "source": [
    "# Computer Assignment 1, Search\n",
    "## The perpose of this project is to provide a solution to the snake game problem using informed and uninformed search algorithms.\n",
    "### The algorithms used in the project are: BFS, IDS and A*"
   ]
  },
  {
   "cell_type": "markdown",
   "metadata": {},
   "source": [
    "## Reading Data\n",
    "The input data is as follows:\n",
    "1 - Game screen size\n",
    "2 - The initial coordinates of the snake on the page\n",
    "3 - Number of seeds\n",
    "4 - The coordinates of each seed with its score"
   ]
  },
  {
   "cell_type": "code",
   "execution_count": 1,
   "metadata": {},
   "outputs": [],
   "source": [
    "def read_test_file(path):\n",
    "    with open(path) as file:\n",
    "        lines = [line.rstrip().split(',') for line in file]\n",
    "    return lines"
   ]
  },
  {
   "cell_type": "markdown",
   "metadata": {},
   "source": [
    "## Classes used in the project"
   ]
  },
  {
   "cell_type": "markdown",
   "metadata": {},
   "source": [
    "### 1 - Unit\n",
    "This class represents each of the cells in the game table."
   ]
  },
  {
   "cell_type": "code",
   "execution_count": 5,
   "metadata": {},
   "outputs": [],
   "source": [
    "class Unit:\n",
    "    def __init__(self, x, y):\n",
    "        self.x = x\n",
    "        self.y = y\n",
    "\n",
    "    def get_right(self):\n",
    "        return Unit(self.x, (self.y + 1)% play_ground.length)\n",
    "\n",
    "    def get_left(self):\n",
    "        return Unit(self.x, (self.y - 1)% play_ground.length)\n",
    "\n",
    "    def get_up(self):\n",
    "        return Unit((self.x - 1)% play_ground.width, self.y)\n",
    "\n",
    "    def get_down(self):\n",
    "        return Unit((self.x + 1)% play_ground.width, self.y)\n",
    "    \n",
    "    def __hash__(self):\n",
    "        return hash((self.x, self.y))\n",
    "        \n",
    "    def distance_to(self, other):\n",
    "        return abs(self.x - other.x) + abs(self.y - other.y)"
   ]
  },
  {
   "cell_type": "markdown",
   "metadata": {},
   "source": [
    "### 2 - Play_ground\n",
    "This class represents the playground."
   ]
  },
  {
   "cell_type": "code",
   "execution_count": 3,
   "metadata": {},
   "outputs": [],
   "source": [
    "class Play_ground:\n",
    "    def __init__(self, width, length):\n",
    "        self.width = width\n",
    "        self.length = length"
   ]
  },
  {
   "cell_type": "markdown",
   "metadata": {},
   "source": [
    "### 3 - Seed"
   ]
  },
  {
   "cell_type": "code",
   "execution_count": 6,
   "metadata": {},
   "outputs": [],
   "source": [
    "class Seed:\n",
    "    def __init__(self, x, y, score):\n",
    "        self.score = score\n",
    "        self.home = Unit(x,y)\n",
    "    \n",
    "    def __hash__(self):\n",
    "        return hash((self.score, self.home))"
   ]
  },
  {
   "cell_type": "markdown",
   "metadata": {},
   "source": [
    "### 4 - Snake"
   ]
  },
  {
   "cell_type": "code",
   "execution_count": 7,
   "metadata": {},
   "outputs": [],
   "source": [
    "class Snake:\n",
    "    def __init__(self, head_x, head_y, body = []):\n",
    "        self.head = Unit(head_x, head_y)\n",
    "        self.body = body\n",
    "\n",
    "    def __hash__(self):\n",
    "        return hash((self.head, hash(frozenset([unit for unit in self.body]))))\n",
    "    \n",
    "    def can_move(self, direction):\n",
    "        if direction == 'R':\n",
    "            next_unit = self.head.get_right()\n",
    "        elif direction == 'L':\n",
    "            next_unit = self.head.get_left()\n",
    "        elif direction == 'U':\n",
    "            next_unit = self.head.get_up()\n",
    "        else:\n",
    "            next_unit = self.head.get_down()\n",
    "\n",
    "        if len(self.body) == 1:\n",
    "            if self.body[0].x == next_unit.x and self.body[0].y == next_unit.y:\n",
    "                return False\n",
    "        else:\n",
    "            for i in range(len(self.body) - 1):\n",
    "                if self.body[i].x == next_unit.x and self.body[i].y == next_unit.y:\n",
    "                    return False\n",
    "        return True\n",
    "    \n",
    "    def move(self, direction, seeds):\n",
    "        next_unit = None\n",
    "        if direction == 'R':\n",
    "            next_unit = self.head.get_right()\n",
    "        elif direction == 'L':\n",
    "            next_unit = self.head.get_left()\n",
    "        elif direction == 'U':\n",
    "            next_unit = self.head.get_up()\n",
    "        else:\n",
    "            next_unit = self.head.get_down()\n",
    "\n",
    "        new_body = [Unit(unit.x, unit.y) for unit in self.body]\n",
    "        new_snake = Snake(self.head.x, self.head.y, new_body)\n",
    "        new_seeds = set()\n",
    "\n",
    "        for seed in seeds:\n",
    "            new_seeds.add(Seed(seed.home.x, seed.home.y, seed.score))\n",
    "\n",
    "        can_eat = False\n",
    "        \n",
    "\n",
    "        for seed in new_seeds:\n",
    "            if seed.home.x == next_unit.x and seed.home.y == next_unit.y:\n",
    "                if(seed.score == 1):\n",
    "                    new_seeds.remove(seed)\n",
    "                else:\n",
    "                    seed.score = seed.score - 1\n",
    "                can_eat = True\n",
    "                break\n",
    "        \n",
    "        new_snake.head = next_unit\n",
    "        new_snake.body.insert(0, self.head)\n",
    "\n",
    "        if not can_eat:\n",
    "            if len(new_snake.body) != 0:\n",
    "                new_snake.body.pop()\n",
    "        \n",
    "        return new_snake, new_seeds"
   ]
  },
  {
   "cell_type": "markdown",
   "metadata": {},
   "source": [
    "### 5 - State\n",
    "This class models the different modes of our game world, what the game snake is like in this mode and what each of the seeds is like."
   ]
  },
  {
   "cell_type": "code",
   "execution_count": 8,
   "metadata": {},
   "outputs": [],
   "source": [
    "class State:\n",
    "    def __init__(self, snake, seeds):\n",
    "        self.snake = snake\n",
    "        self.seeds = seeds\n",
    "\n",
    "    def is_goal(self):\n",
    "        if len(self.seeds) == 0:\n",
    "            return True\n",
    "        return False\n",
    "    \n",
    "    def __hash__(self):\n",
    "        return hash((self.snake, hash(frozenset(self.seeds))))\n",
    "    \n",
    "    def get_nexts(self):\n",
    "        nexts = []\n",
    "        if self.snake.can_move('R'):\n",
    "            new_snake, new_seeds = self.snake.move('R', self.seeds)\n",
    "            nexts.append(State(new_snake, new_seeds))\n",
    "        if self.snake.can_move('L'):\n",
    "            new_snake, new_seeds = self.snake.move('L', self.seeds)\n",
    "            nexts.append(State(new_snake, new_seeds))\n",
    "        if self.snake.can_move('U'):\n",
    "            new_snake, new_seeds = self.snake.move('U', self.seeds)\n",
    "            nexts.append(State(new_snake, new_seeds))\n",
    "        if self.snake.can_move('D'):\n",
    "            new_snake, new_seeds = self.snake.move('D', self.seeds)\n",
    "            nexts.append(State(new_snake, new_seeds))\n",
    "        \n",
    "        return nexts"
   ]
  },
  {
   "cell_type": "markdown",
   "metadata": {},
   "source": [
    "### 6 - Node\n",
    "This class is to show the path that is taken to reach the answer."
   ]
  },
  {
   "cell_type": "code",
   "execution_count": 180,
   "metadata": {},
   "outputs": [],
   "source": [
    "class Node:\n",
    "    def __init__(self, state, parent, path_cost):\n",
    "        self.state = state\n",
    "        self.parent = parent\n",
    "        self.path_cost = path_cost\n",
    "    \n",
    "    def get_children(self):\n",
    "        return [Node(child_state, self, self.path_cost + 1) for child_state in self.state.get_nexts()]\n",
    "    \n",
    "    def hash_without_cost(self):\n",
    "        return(hash(self.state))\n",
    "    \n",
    "    def hash_with_cost(self):\n",
    "        return(hash((self.state, self.path_cost)))\n",
    "    \n",
    "    def __lt__(self, other):\n",
    "        return self.f() < other.f()\n",
    "    \n",
    "    def h(self):\n",
    "        return len(self.state.seeds)\n",
    "    \n",
    "#     def h(self):\n",
    "#         remain_seeds = 0\n",
    "#         seeds = self.state.seeds\n",
    "#         for seed in seeds:\n",
    "#             remain_seeds = remain_seeds + seed.score\n",
    "#         return remain_seeds \n",
    "    \n",
    "    def g(self):\n",
    "        return self.path_cost\n",
    "    \n",
    "    def f(self):\n",
    "        return self.g() + self.h()\n",
    "    \n",
    "    def get_path(self):\n",
    "        head_units = []\n",
    "        if(self.parent):\n",
    "            head_units = self.parent.get_path()\n",
    "        head_units.append(self.state.snake.head)\n",
    "        return head_units\n",
    "\n",
    "    def show(self):\n",
    "        if(self.parent):\n",
    "             self.parent.show()\n",
    "        snake_units = []\n",
    "        for i in range(len(self.state.snake.body)-1, -1):\n",
    "            snake_units.append(self.state.snake.body[i])\n",
    "        snake_units.append(self.state.snake.head)\n",
    "        print('Snake :')\n",
    "        for unit in snake_units:\n",
    "            print(unit.x, unit.y)\n",
    "        print('Seeds :')\n",
    "        for seed in self.state.seeds:\n",
    "            if(seed.score > 0):\n",
    "                print(seed.home.x, seed.home.y, seed.score)\n",
    "        print('- - - - - - - - - - - - - ')"
   ]
  },
  {
   "cell_type": "markdown",
   "metadata": {},
   "source": [
    "## Initial objects"
   ]
  },
  {
   "cell_type": "code",
   "execution_count": 183,
   "metadata": {},
   "outputs": [],
   "source": [
    "test_file_path = './tests/test2.txt'\n",
    "test_lines = read_test_file(test_file_path)\n",
    "\n",
    "play_ground = Play_ground(int(test_lines[0][0]), int(test_lines[0][1]))\n",
    "\n",
    "initial_seed_numbers = int(test_lines[2][0])\n",
    "initial_seeds = set()\n",
    "for i in range(initial_seed_numbers):\n",
    "    initial_seeds.add(Seed(int(test_lines[3+i][0]), int(test_lines[3+i][1]), int(test_lines[3+i][2])))\n",
    "\n",
    "initial_snake = Snake(int(test_lines[1][0]), int(test_lines[1][1]))"
   ]
  },
  {
   "cell_type": "markdown",
   "metadata": {},
   "source": [
    "## Show directions\n",
    "This function shows where the snake has gone in each step by taking path nodes."
   ]
  },
  {
   "cell_type": "code",
   "execution_count": 12,
   "metadata": {},
   "outputs": [],
   "source": [
    "def showDirection(heads):\n",
    "    for i in range(len(heads) - 1):\n",
    "        if heads[i].get_right().x == heads[i+1].x and heads[i].get_right().y == heads[i+1].y:\n",
    "            print('R', end = ' ')\n",
    "        elif heads[i].get_left().x == heads[i+1].x and heads[i].get_left().y == heads[i+1].y:\n",
    "            print('L', end = ' ')\n",
    "        elif heads[i].get_up().x == heads[i+1].x and heads[i].get_up().y == heads[i+1].y:\n",
    "            print('U', end = ' ')\n",
    "        elif heads[i].get_down().x == heads[i+1].x and heads[i].get_down().y == heads[i+1].y:\n",
    "            print('D', end = ' ')"
   ]
  },
  {
   "cell_type": "markdown",
   "metadata": {},
   "source": [
    "## How to model the problem\n",
    "### Initial state: \n",
    "This is the initial state of the problem. The length of the snake is one unit and its coordinates are taken as input. The seeds are also according to the input of the problem.\n",
    "### Goal state:\n",
    "It is a situation that we want to achieve and it happens when the snake has eaten all the seeds on the playground.\n",
    "### Action:\n",
    "The snake can move in any of the four directions that do not touch its body, and if there is a seed in the house where the snake's head goes, it will eat it and one of the seed scores will be reduced and one will be added to the snake's length.\n",
    "### Path cost: \n",
    "Each move costs 1."
   ]
  },
  {
   "cell_type": "markdown",
   "metadata": {},
   "source": [
    "## BFS\n",
    "In this algorithm, we move forward level by level.\n",
    "In this way, we first add a node with initial state to the frontier set and add the same to the explored set, and then add all its children to the frontier set if they are not in frontier set or explored set. Then, in order to move forward level by level, we add the first member of frontier set to explored set and continue the previous steps. Whenever the node selected for expansion meets the conditions of the goal state, we get the answer."
   ]
  },
  {
   "cell_type": "code",
   "execution_count": 79,
   "metadata": {},
   "outputs": [],
   "source": [
    "from time import time\n",
    "def bfs():\n",
    "    start = time()\n",
    "    \n",
    "    initial_state = State(initial_snake, initial_seeds)\n",
    "    initial_node = Node(initial_state, None, 0)\n",
    "    \n",
    "    states_num = 1\n",
    "    seperate_states_num = 1\n",
    "\n",
    "    frontier = [initial_node]\n",
    "    frontier_hash = set()\n",
    "    frontier_hash.add(initial_node.hash_without_cost())\n",
    "    explored_hash = set()\n",
    "\n",
    "    if initial_state.is_goal():\n",
    "        return initial_node, time() - start, states_num, seperate_states_num\n",
    "    \n",
    "    while True :\n",
    "        if len(frontier) == 0: \n",
    "            return None, time() - start, states_num, seperate_states_num\n",
    "        node = frontier.pop(0)\n",
    "        if node.state.is_goal():\n",
    "                return node, time() - start, states_num, seperate_states_num\n",
    "        explored_hash.add(node.hash_without_cost())\n",
    "        for child in node.get_children():\n",
    "            states_num += 1\n",
    "            if child.hash_without_cost() in frontier_hash or child.hash_without_cost() in explored_hash:\n",
    "                continue\n",
    "            seperate_states_num += 1\n",
    "            frontier.append(child)\n",
    "            frontier_hash.add(child.hash_without_cost())"
   ]
  },
  {
   "cell_type": "markdown",
   "metadata": {},
   "source": [
    "#### Test1"
   ]
  },
  {
   "cell_type": "code",
   "execution_count": 21,
   "metadata": {},
   "outputs": [
    {
     "name": "stdout",
     "output_type": "stream",
     "text": [
      "0.27637481689453125\n",
      "12\n",
      "13018\n",
      "5747\n",
      "L D R R D D R R D R D D "
     ]
    }
   ],
   "source": [
    "node, time, states_num, seperate_states_num = bfs()\n",
    "print(time)\n",
    "heads = node.get_path()\n",
    "print(node.path_cost)\n",
    "print(states_num)\n",
    "print(seperate_states_num)\n",
    "showDirection(heads)"
   ]
  },
  {
   "cell_type": "markdown",
   "metadata": {},
   "source": [
    "#### Test2"
   ]
  },
  {
   "cell_type": "code",
   "execution_count": 52,
   "metadata": {},
   "outputs": [
    {
     "name": "stdout",
     "output_type": "stream",
     "text": [
      "3.6240060329437256\n",
      "15\n",
      "116674\n",
      "51750\n",
      "R U L L D L U U U U L L L L U "
     ]
    }
   ],
   "source": [
    "node, time, states_num, seperate_states_num = bfs()\n",
    "print(time)\n",
    "heads = node.get_path()\n",
    "print(node.path_cost)\n",
    "print(states_num)\n",
    "print(seperate_states_num)\n",
    "showDirection(heads)"
   ]
  },
  {
   "cell_type": "markdown",
   "metadata": {},
   "source": [
    "#### Test3"
   ]
  },
  {
   "cell_type": "code",
   "execution_count": 80,
   "metadata": {},
   "outputs": [
    {
     "name": "stdout",
     "output_type": "stream",
     "text": [
      "19.609614849090576\n",
      "25\n",
      "536081\n",
      "234039\n",
      "R U R D D D R R D R R D D R U R R D L L L L L U U "
     ]
    }
   ],
   "source": [
    "node, time, states_num, seperate_states_num = bfs()\n",
    "print(time)\n",
    "heads = node.get_path()\n",
    "print(node.path_cost)\n",
    "print(states_num)\n",
    "print(seperate_states_num)\n",
    "showDirection(heads)"
   ]
  },
  {
   "cell_type": "markdown",
   "metadata": {},
   "source": [
    "## IDS\n",
    "In this algorithm, we test the DFS with different depth limits, and if we do not get the answer, we increase the depth by one again.\n",
    "To implement the DFS algorithm itself, we start with a node that has initial state. We add the children of the node to the frontier set if they are not in the frontier and explored sets, and also if it's path_cost is not more than depth. Each time we select the last element in the F set to select the new node."
   ]
  },
  {
   "cell_type": "code",
   "execution_count": 117,
   "metadata": {},
   "outputs": [],
   "source": [
    "from time import time\n",
    "def dfs(depth):\n",
    "    initial_state = State(initial_snake, initial_seeds)\n",
    "    initial_node = Node(initial_state, None, 0)\n",
    "    \n",
    "    states_num = 1\n",
    "    seperate_states_num = 1\n",
    "    \n",
    "    frontier = [initial_node]\n",
    "    explored_hash = set()\n",
    "    frontier_hash = set()\n",
    "    frontier_hash.add(initial_node.hash_with_cost())\n",
    "\n",
    "    if initial_state.is_goal():\n",
    "        return initial_node, states_num, seperate_states_num\n",
    "    \n",
    "    while True :\n",
    "        if len(frontier) == 0: \n",
    "            return None, states_num, seperate_states_num\n",
    "        node = frontier.pop()\n",
    "        explored_hash.add(node.hash_with_cost())\n",
    "\n",
    "        if node.state.is_goal():\n",
    "                return node, states_num, seperate_states_num\n",
    "        for child in node.get_children():\n",
    "            states_num += 1\n",
    "            if child.hash_with_cost() in frontier_hash or child.hash_with_cost() in explored_hash or child.path_cost > depth:\n",
    "                continue\n",
    "            seperate_states_num += 1\n",
    "            frontier.append(child)\n",
    "            frontier_hash.add(child.hash_with_cost())"
   ]
  },
  {
   "cell_type": "code",
   "execution_count": 118,
   "metadata": {},
   "outputs": [],
   "source": [
    "def ids():\n",
    "    depth = 0\n",
    "    start = time()\n",
    "    all_states_num = 0\n",
    "    all_seperate_states_num = 0\n",
    "    while True:\n",
    "        result, states_num, seperate_states_num = dfs(depth)\n",
    "        all_states_num += states_num\n",
    "        all_seperate_states_num += seperate_states_num\n",
    "        if result:\n",
    "            return result, time() - start, all_states_num, all_seperate_states_num\n",
    "        depth += 1\n",
    "    return None, time() - start, all_states_num, all_seperate_states_num"
   ]
  },
  {
   "cell_type": "markdown",
   "metadata": {},
   "source": [
    "#### Test1"
   ]
  },
  {
   "cell_type": "code",
   "execution_count": 110,
   "metadata": {},
   "outputs": [
    {
     "name": "stdout",
     "output_type": "stream",
     "text": [
      "1.7015631198883057\n",
      "12\n",
      "90962\n",
      "29974\n",
      "D L D D R R R D R D D R "
     ]
    }
   ],
   "source": [
    "node, time, states_num, seperate_states_num = ids()\n",
    "print(time)\n",
    "heads = node.get_path()\n",
    "print(node.path_cost)\n",
    "print(states_num)\n",
    "print(seperate_states_num)\n",
    "showDirection(heads)"
   ]
  },
  {
   "cell_type": "markdown",
   "metadata": {},
   "source": [
    "#### Test2"
   ]
  },
  {
   "cell_type": "code",
   "execution_count": 114,
   "metadata": {},
   "outputs": [
    {
     "name": "stdout",
     "output_type": "stream",
     "text": [
      "15.80132794380188\n",
      "15\n",
      "786582\n",
      "264268\n",
      "U R D L L U U U U L U L L L L "
     ]
    }
   ],
   "source": [
    "node, time, states_num, seperate_states_num = ids()\n",
    "print(time)\n",
    "heads = node.get_path()\n",
    "print(node.path_cost)\n",
    "print(states_num)\n",
    "print(seperate_states_num)\n",
    "showDirection(heads)"
   ]
  },
  {
   "cell_type": "markdown",
   "metadata": {},
   "source": [
    "#### Test3"
   ]
  },
  {
   "cell_type": "code",
   "execution_count": 119,
   "metadata": {},
   "outputs": [
    {
     "name": "stdout",
     "output_type": "stream",
     "text": [
      "97.26926112174988\n",
      "25\n",
      "4849363\n",
      "1641932\n",
      "U R D D D R D R R D D R R R U R R D L L L U U L L "
     ]
    }
   ],
   "source": [
    "node, time, states_num, seperate_states_num = ids()\n",
    "print(time)\n",
    "heads = node.get_path()\n",
    "print(node.path_cost)\n",
    "print(states_num)\n",
    "print(seperate_states_num)\n",
    "showDirection(heads)"
   ]
  },
  {
   "cell_type": "markdown",
   "metadata": {},
   "source": [
    "## A*\n",
    "This type of search is informed in the sense that each time we select a node, the sum of the distance traveled so far and the prediction we have of its future direction is the smallest.\n"
   ]
  },
  {
   "cell_type": "code",
   "execution_count": 184,
   "metadata": {},
   "outputs": [],
   "source": [
    "from heapq import heappush, heappop\n",
    "from time import time\n",
    "\n",
    "def a_star():\n",
    "    start = time()\n",
    "    \n",
    "    initial_state = State(initial_snake, initial_seeds)\n",
    "    initial_node = Node(initial_state, None, 0)\n",
    "    \n",
    "    states_num = 1\n",
    "    seperate_states_num = 1\n",
    "    \n",
    "    frontier = []\n",
    "    explored_hash = set()\n",
    "    heappush(frontier, initial_node)\n",
    "    frontier_hash = dict()\n",
    "    frontier_hash[initial_node.hash_without_cost()] = initial_node.path_cost\n",
    "\n",
    "    if initial_state.is_goal():\n",
    "        return initial_node, states_num, seperate_states_num\n",
    "    \n",
    "    while True :\n",
    "        if len(frontier) == 0: \n",
    "            return None, time() - start, states_num, seperate_states_num\n",
    "        node = heappop(frontier)\n",
    "        explored_hash.add(node.hash_without_cost())\n",
    "        if node.state.is_goal():\n",
    "                return node, time() - start, states_num, seperate_states_num\n",
    "        for child in node.get_children():\n",
    "            states_num += 1\n",
    "            child_hash = child.hash_without_cost()\n",
    "            if child_hash in explored_hash or (child_hash in frontier_hash and child.path_cost >= frontier_hash[child_hash]):\n",
    "                continue\n",
    "            seperate_states_num += 1\n",
    "            heappush(frontier, child)\n",
    "            frontier_hash[child.hash_without_cost()] = child.path_cost"
   ]
  },
  {
   "cell_type": "markdown",
   "metadata": {},
   "source": [
    "### first heuristic\n",
    "Here we consider the h function to return the total number of seeds.\n",
    "This is a admissible heuristic because with each move of the snake, in the best case, a seed is eaten, so the snake must move at least the number of remaining seeds to reach the goal state, and the heuristic value is always less than the real value.\n",
    "This is a consistent heuristic because in each move from one node to another node, the seed numbers does not decrease or decreases by one unit, so in any case between two neighbor nodes, h(parent) is more than or equal to h(child)."
   ]
  },
  {
   "cell_type": "markdown",
   "metadata": {},
   "source": [
    "#### Test1"
   ]
  },
  {
   "cell_type": "code",
   "execution_count": 32,
   "metadata": {},
   "outputs": [
    {
     "name": "stdout",
     "output_type": "stream",
     "text": [
      "0.12101244926452637\n",
      "12\n",
      "4495\n",
      "2500\n",
      "D L L U U L U L L L U U "
     ]
    }
   ],
   "source": [
    "node, time, states_num, seperate_states_num = a_star()\n",
    "print(time)\n",
    "heads = node.get_path()\n",
    "print(node.path_cost)\n",
    "print(states_num)\n",
    "print(seperate_states_num)\n",
    "showDirection(heads)"
   ]
  },
  {
   "cell_type": "markdown",
   "metadata": {},
   "source": [
    "#### Test2"
   ]
  },
  {
   "cell_type": "code",
   "execution_count": 185,
   "metadata": {},
   "outputs": [
    {
     "name": "stdout",
     "output_type": "stream",
     "text": [
      "1.4019811153411865\n",
      "15\n",
      "41505\n",
      "22004\n",
      "U R D L L U U U U L L U L L L "
     ]
    }
   ],
   "source": [
    "node, time, states_num, seperate_states_num = a_star()\n",
    "print(time)\n",
    "heads = node.get_path()\n",
    "print(node.path_cost)\n",
    "print(states_num)\n",
    "print(seperate_states_num)\n",
    "showDirection(heads)"
   ]
  },
  {
   "cell_type": "markdown",
   "metadata": {},
   "source": [
    "#### Test3"
   ]
  },
  {
   "cell_type": "code",
   "execution_count": 182,
   "metadata": {},
   "outputs": [
    {
     "name": "stdout",
     "output_type": "stream",
     "text": [
      "9.830609321594238\n",
      "25\n",
      "239891\n",
      "115055\n",
      "U R D D D R R R D R D D R R R R U L L D L L U L U "
     ]
    }
   ],
   "source": [
    "node, time, states_num, seperate_states_num = a_star()\n",
    "print(time)\n",
    "heads = node.get_path()\n",
    "print(node.path_cost)\n",
    "print(states_num)\n",
    "print(seperate_states_num)\n",
    "showDirection(heads)"
   ]
  },
  {
   "cell_type": "markdown",
   "metadata": {},
   "source": [
    "### second heuristic\n",
    "Here we consider the h function to return the total score of seeds remaining for each node.\n",
    "This is a admissible heuristic because with each move of the snake, in the best case, a one-point seed is eaten, so the snake must move at least the number of remaining seeds to reach the goal state, and the heuristic value is always less than the real value.\n",
    "This is a consistent heuristic because in each move from one node to another node, the seed score does not decrease or decreases by one unit, so in any case between two neighbor nodes, h(parent) is more than or equal to h(child)."
   ]
  },
  {
   "cell_type": "markdown",
   "metadata": {},
   "source": [
    "#### Test1"
   ]
  },
  {
   "cell_type": "code",
   "execution_count": 167,
   "metadata": {},
   "outputs": [
    {
     "name": "stdout",
     "output_type": "stream",
     "text": [
      "0.1319882869720459\n",
      "12\n",
      "4235\n",
      "2651\n",
      "D L U U L L U L L L U U "
     ]
    }
   ],
   "source": [
    "node, time, states_num, seperate_states_num = a_star()\n",
    "print(time)\n",
    "heads = node.get_path()\n",
    "print(node.path_cost)\n",
    "print(states_num)\n",
    "print(seperate_states_num)\n",
    "showDirection(heads)"
   ]
  },
  {
   "cell_type": "markdown",
   "metadata": {},
   "source": [
    "#### Test2"
   ]
  },
  {
   "cell_type": "code",
   "execution_count": 170,
   "metadata": {},
   "outputs": [
    {
     "name": "stdout",
     "output_type": "stream",
     "text": [
      "2.079922914505005\n",
      "15\n",
      "41505\n",
      "22004\n",
      "U R D L L U U U U L L U L L L "
     ]
    }
   ],
   "source": [
    "node, time, states_num, seperate_states_num = a_star()\n",
    "print(time)\n",
    "heads = node.get_path()\n",
    "print(node.path_cost)\n",
    "print(states_num)\n",
    "print(seperate_states_num)\n",
    "showDirection(heads)"
   ]
  },
  {
   "cell_type": "markdown",
   "metadata": {},
   "source": [
    "#### Test3"
   ]
  },
  {
   "cell_type": "code",
   "execution_count": 179,
   "metadata": {},
   "outputs": [
    {
     "name": "stdout",
     "output_type": "stream",
     "text": [
      "9.807828903198242\n",
      "25\n",
      "199531\n",
      "99034\n",
      "U R D D D R D R R R R D D R U R R D L L L U L U L "
     ]
    }
   ],
   "source": [
    "node, time, states_num, seperate_states_num = a_star()\n",
    "print(time)\n",
    "heads = node.get_path()\n",
    "print(node.path_cost)\n",
    "print(states_num)\n",
    "print(seperate_states_num)\n",
    "showDirection(heads)"
   ]
  },
  {
   "cell_type": "markdown",
   "metadata": {},
   "source": [
    "## Weighted A*\n",
    "\n",
    "When the heuristic is admissble, we are sure that its value is less than the real value. By multiplying it, the heuristic value gets closer to the real number and the result is obtained in a shorter time.\n",
    "But if this multiplication causes the answer to no longer be admissble, it may not give us the optimal path."
   ]
  },
  {
   "cell_type": "markdown",
   "metadata": {},
   "source": [
    "#### alpha = 1.8"
   ]
  },
  {
   "cell_type": "markdown",
   "metadata": {},
   "source": [
    "#### Test1"
   ]
  },
  {
   "cell_type": "code",
   "execution_count": 127,
   "metadata": {},
   "outputs": [
    {
     "name": "stdout",
     "output_type": "stream",
     "text": [
      "0.10935211181640625\n",
      "12\n",
      "3805\n",
      "2196\n",
      "D L U U L L U L L L U U "
     ]
    }
   ],
   "source": [
    "node, time, states_num, seperate_states_num = a_star()\n",
    "print(time)\n",
    "heads = node.get_path()\n",
    "print(node.path_cost)\n",
    "print(states_num)\n",
    "print(seperate_states_num)\n",
    "showDirection(heads)"
   ]
  },
  {
   "cell_type": "markdown",
   "metadata": {},
   "source": [
    "#### Test2"
   ]
  },
  {
   "cell_type": "code",
   "execution_count": 133,
   "metadata": {},
   "outputs": [
    {
     "name": "stdout",
     "output_type": "stream",
     "text": [
      "0.7829029560089111\n",
      "15\n",
      "24048\n",
      "13817\n",
      "R U L D L U U U U L L L L U L "
     ]
    }
   ],
   "source": [
    "node, time, states_num, seperate_states_num = a_star()\n",
    "print(time)\n",
    "heads = node.get_path()\n",
    "print(node.path_cost)\n",
    "print(states_num)\n",
    "print(seperate_states_num)\n",
    "showDirection(heads)"
   ]
  },
  {
   "cell_type": "markdown",
   "metadata": {},
   "source": [
    "#### Test3"
   ]
  },
  {
   "cell_type": "code",
   "execution_count": 124,
   "metadata": {},
   "outputs": [
    {
     "name": "stdout",
     "output_type": "stream",
     "text": [
      "6.9806060791015625\n",
      "25\n",
      "172466\n",
      "84486\n",
      "U R D D D R R D R R D D R R U R R D L L L L U U L "
     ]
    }
   ],
   "source": [
    "node, time, states_num, seperate_states_num = a_star()\n",
    "print(time)\n",
    "heads = node.get_path()\n",
    "print(node.path_cost)\n",
    "print(states_num)\n",
    "print(seperate_states_num)\n",
    "showDirection(heads)"
   ]
  },
  {
   "cell_type": "markdown",
   "metadata": {},
   "source": [
    "#### alpha = 4.8"
   ]
  },
  {
   "cell_type": "markdown",
   "metadata": {},
   "source": [
    "#### Test1"
   ]
  },
  {
   "cell_type": "code",
   "execution_count": 144,
   "metadata": {},
   "outputs": [
    {
     "name": "stdout",
     "output_type": "stream",
     "text": [
      "0.11131906509399414\n",
      "16\n",
      "4217\n",
      "1873\n",
      "U L L L U L L U U L D D L U U R "
     ]
    }
   ],
   "source": [
    "node, time, states_num, seperate_states_num = a_star()\n",
    "print(time)\n",
    "heads = node.get_path()\n",
    "print(node.path_cost)\n",
    "print(states_num)\n",
    "print(seperate_states_num)\n",
    "showDirection(heads)"
   ]
  },
  {
   "cell_type": "markdown",
   "metadata": {},
   "source": [
    "#### Test2"
   ]
  },
  {
   "cell_type": "code",
   "execution_count": 141,
   "metadata": {},
   "outputs": [
    {
     "name": "stdout",
     "output_type": "stream",
     "text": [
      "0.12711381912231445\n",
      "17\n",
      "3283\n",
      "2300\n",
      "U L D R R U L L U U L U L L L U L "
     ]
    }
   ],
   "source": [
    "node, time, states_num, seperate_states_num = a_star()\n",
    "print(time)\n",
    "heads = node.get_path()\n",
    "print(node.path_cost)\n",
    "print(states_num)\n",
    "print(seperate_states_num)\n",
    "showDirection(heads)"
   ]
  },
  {
   "cell_type": "markdown",
   "metadata": {},
   "source": [
    "#### Test3"
   ]
  },
  {
   "cell_type": "code",
   "execution_count": 147,
   "metadata": {},
   "outputs": [
    {
     "name": "stdout",
     "output_type": "stream",
     "text": [
      "1.3445119857788086\n",
      "26\n",
      "39208\n",
      "21576\n",
      "R U R D D D R R D R U L D D D R R R U R R D D L U L "
     ]
    }
   ],
   "source": [
    "node, time, states_num, seperate_states_num = a_star()\n",
    "print(time)\n",
    "heads = node.get_path()\n",
    "print(node.path_cost)\n",
    "print(states_num)\n",
    "print(seperate_states_num)\n",
    "showDirection(heads)"
   ]
  },
  {
   "cell_type": "markdown",
   "metadata": {},
   "source": [
    "## Differences"
   ]
  },
  {
   "cell_type": "markdown",
   "metadata": {},
   "source": [
    "#### Completness and optimality\n",
    "All of this algorithms are complete and optimal.\n",
    "\n",
    "#### Time complexity\n",
    "BFS runs in O($ b^d $) where d is depth of solution.\n",
    "\n",
    "IDS runs in O($ b^d $) too but it's a bit slower than BFS because it runs DFS sunbroutines many times.\n",
    "\n",
    "A* runs in O(Number of nodes for which f(n) ≤ C* (exponential))\n",
    "\n",
    "#### Space Complexity\n",
    "BFS gets O($ b^d $) space because it saves all the visited and frontier nodes till goal node.\n",
    "\n",
    "IDS gets O( bd ) space because it just saves frontier nodes for one branch. \n",
    "\n",
    "A* get exponential space. "
   ]
  },
  {
   "cell_type": "markdown",
   "metadata": {},
   "source": [
    "## Result table\n",
    "\n",
    "#### Test1\n",
    "\n",
    "| algorithm | path cost | path | number of states visited | number of separate states visited | time\n",
    "| --- | --- | --- | --- | --- | --- |\n",
    "| BFS | 12 | L D R R D D R R D R D D | 13018 | 5747 | 0.31 |\n",
    "| IDS | 12 | D L D D R R R D R D D R | 90962 | 29974 | 1.68 |\n",
    "| A* h1 | 12 | D L L U U L U L L L U U | 4495 | 2500 | 0.12 |\n",
    "| A* h2 | 12 | D L U U L L U L L L U U  | 4235 | 2651 | 0.13 |\n",
    "| weighted A* 1 | 12 | D L U U L L U L L L U U | 3805 | 2196 | 0.11 |\n",
    "| weighted A* 2 | 16 | U L L L U L L U U L D D L U U R | 4217 | 1873 | 0.115 |\n",
    "\n",
    "\n",
    "#### Test2\n",
    "\n",
    "| algorithm | path cost | path | number of states visited | number of separate states visited | time\n",
    "| --- | --- | --- | --- | --- | --- |\n",
    "| BFS | 15 | R U L L D L U U U U L L L L U | 116674 | 51750 | 3.45 |\n",
    "| IDS | 15 | U R D L L U U U U L U L L L L | 786582 | 264268 | 15.64 |\n",
    "| A* h1 | 15 | U R D L L U U U U L L U L L L | 41505 | 22004 | 1.5 |\n",
    "| A* h2 | 15 | U R D L L U U U U L L U L L L | 41505 | 22004 | 2.1 |\n",
    "| weighted A* 1 | 12 | D L U U L L U L L L U U | 3805 | 2196 | 0.79 |\n",
    "| weighted A* 2 | 17 | U L D R R U L L U U L U L L L U L | 3283 | 2300 | 0.13 |\n",
    "\n",
    "\n",
    "#### Test3\n",
    "\n",
    "| algorithm | path cost | path | number of states visited | number of separate states visited | time\n",
    "| --- | --- | --- | --- | --- | --- |\n",
    "| BFS | 25 | R U R D D D R R D R R D D R U R R D L L L L L U U | 536081 | 234039 | 19.34 |\n",
    "| IDS | 25 | U R D D D R D R R D D R R R U R R D L L L U U L L | 4849363 | 1641932 | 99.02 |\n",
    "| A* h1 | 25 | U R D D D R R R D R D D R R R R U L L D L L U L U  | 239891 | 115055 | 9.82 |\n",
    "| A* h2 | 25 | U R D D D R D R R R R D D R U R R D L L L U L U L | 199531 | 99034 | 9.83 |\n",
    "| weighted A* 1 | 25 | U R D D D R R D R R D D R R U R R D L L L L U U L | 172466 | 84486 | 6.8 |\n",
    "| weighted A* 2 | 26 | R U R D D D R R D R U L D D D R R R U R R D D L U L | 39208 | 21576 | 1.36 |"
   ]
  },
  {
   "cell_type": "code",
   "execution_count": null,
   "metadata": {},
   "outputs": [],
   "source": []
  }
 ],
 "metadata": {
  "kernelspec": {
   "display_name": "Python 3",
   "language": "python",
   "name": "python3"
  },
  "language_info": {
   "codemirror_mode": {
    "name": "ipython",
    "version": 3
   },
   "file_extension": ".py",
   "mimetype": "text/x-python",
   "name": "python",
   "nbconvert_exporter": "python",
   "pygments_lexer": "ipython3",
   "version": "3.8.5"
  }
 },
 "nbformat": 4,
 "nbformat_minor": 4
}
